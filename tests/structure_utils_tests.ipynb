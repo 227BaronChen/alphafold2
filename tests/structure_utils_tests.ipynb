{
 "cells": [
  {
   "cell_type": "markdown",
   "metadata": {},
   "source": [
    "<center><h2>Testing the Functionality of the <i>\"utils.py\"</i> Module</h2></center>"
   ]
  },
  {
   "cell_type": "code",
   "execution_count": 1,
   "metadata": {
    "collapsed": true
   },
   "outputs": [
    {
     "data": {
      "text/plain": [
       "' Tetsing the following functionality: \\n    * metrics (rmsd, gdt_ts, gdt_ha, tmscore)\\n    * alignment (kabsch)ç\\n    * 3d coords (mds)\\n    -----\\n    The data files used contain the id of the original\\n    crystal structures from the RCSB PDB\\n'"
      ]
     },
     "execution_count": 1,
     "metadata": {},
     "output_type": "execute_result"
    }
   ],
   "source": [
    "\"\"\" Tetsing the following functionality: \n",
    "    * metrics (rmsd, gdt_ts, gdt_ha, tmscore)\n",
    "    * alignment (kabsch)ç\n",
    "    * 3d coords (mds)\n",
    "    -----\n",
    "    The data files used contain the id of the original\n",
    "    crystal structures from the RCSB PDB\n",
    "\"\"\""
   ]
  },
  {
   "cell_type": "code",
   "execution_count": 1,
   "metadata": {},
   "outputs": [],
   "source": [
    "import os\n",
    "import sys\n",
    "# science\n",
    "import numpy as np\n",
    "import torch\n",
    "import matplotlib.pyplot as plt\n",
    "# molecular utils\n",
    "import mdtraj\n",
    "# functionality\n",
    "sys.path.append(\"../\")\n",
    "from utils import *"
   ]
  },
  {
   "cell_type": "code",
   "execution_count": 2,
   "metadata": {},
   "outputs": [],
   "source": [
    "# load pdb file\n",
    "prot = mdtraj.load_pdb(\"data/1h22_protein.pdb\").xyz[0].transpose()"
   ]
  },
  {
   "cell_type": "markdown",
   "metadata": {},
   "source": [
    "## Metrics"
   ]
  },
  {
   "cell_type": "code",
   "execution_count": 3,
   "metadata": {},
   "outputs": [],
   "source": [
    "# alter a small amount and measure metrics\n",
    "pred = prot + (2*np.random.rand(*prot.shape) - 1) * 1"
   ]
  },
  {
   "cell_type": "code",
   "execution_count": 4,
   "metadata": {},
   "outputs": [
    {
     "name": "stdout",
     "output_type": "stream",
     "text": [
      "rmsd is:  [0.57663807]\n",
      "gdt_ha is:  [0.64739125]\n",
      "gdt_ts is:  [0.88089565]\n",
      "tm_score is:  [0.99814677]\n",
      "rmsd is:  tensor([0.5766], dtype=torch.float64)\n",
      "gdt_ha is:  tensor([0.6474])\n",
      "gdt_ts is:  tensor([0.8809])\n",
      "tm_score is:  tensor([0.9981], dtype=torch.float64)\n"
     ]
    }
   ],
   "source": [
    "# Numpy\n",
    "rmsd     = RMSD(prot, pred)\n",
    "gdt_ha   = GDT(prot, pred, mode=\"HA\")\n",
    "gdt_ts   = GDT(prot, pred, mode=\"TS\")\n",
    "tm_score = TMscore(prot, pred)\n",
    "\n",
    "print(\"rmsd is: \", rmsd)\n",
    "print(\"gdt_ha is: \", gdt_ha)\n",
    "print(\"gdt_ts is: \", gdt_ts)\n",
    "print(\"tm_score is: \", tm_score)\n",
    "\n",
    "# Torch\n",
    "prot, pred = torch.tensor(prot), torch.tensor(pred)\n",
    "rmsd     = RMSD(prot, pred)\n",
    "gdt_ha   = GDT(prot, pred, mode=\"HA\")\n",
    "gdt_ts   = GDT(prot, pred, mode=\"TS\")\n",
    "tm_score = TMscore(prot, pred)\n",
    "\n",
    "print(\"rmsd is: \", rmsd)\n",
    "print(\"gdt_ha is: \", gdt_ha)\n",
    "print(\"gdt_ts is: \", gdt_ts)\n",
    "print(\"tm_score is: \", tm_score)"
   ]
  },
  {
   "cell_type": "markdown",
   "metadata": {},
   "source": [
    "## Alignment"
   ]
  },
  {
   "cell_type": "code",
   "execution_count": 5,
   "metadata": {},
   "outputs": [],
   "source": [
    "prot = prot.cpu().numpy()\n",
    "pred = pred.cpu().numpy()"
   ]
  },
  {
   "cell_type": "code",
   "execution_count": 6,
   "metadata": {},
   "outputs": [],
   "source": [
    "# rotation matrix\n",
    "R = np.array([[0.25581, -0.77351, 0.57986],\n",
    "              [-0.85333, -0.46255, -0.24057],\n",
    "              [0.45429, -0.43327, -0.77839]])"
   ]
  },
  {
   "cell_type": "code",
   "execution_count": 7,
   "metadata": {},
   "outputs": [],
   "source": [
    "# perturb protein (translation + rotation + random)\n",
    "pred = prot + (2*np.random.rand(*prot.shape) - 1) * 1 \n",
    "pred = np.dot(R, pred)"
   ]
  },
  {
   "cell_type": "code",
   "execution_count": 8,
   "metadata": {},
   "outputs": [
    {
     "data": {
      "text/plain": [
       "(tensor([0.5743], dtype=torch.float64), tensor([0.9982], dtype=torch.float64))"
      ]
     },
     "execution_count": 8,
     "metadata": {},
     "output_type": "execute_result"
    }
   ],
   "source": [
    "# check realignment works - torch\n",
    "pred_mod_, prot_mod_ = Kabsch(torch.tensor(pred).double(), torch.tensor(prot).double())\n",
    "RMSD(prot_mod_, pred_mod_), TMscore(prot_mod_, pred_mod_)"
   ]
  },
  {
   "cell_type": "code",
   "execution_count": 9,
   "metadata": {},
   "outputs": [
    {
     "data": {
      "text/plain": [
       "(array([0.57427803]), array([0.99816189]))"
      ]
     },
     "execution_count": 9,
     "metadata": {},
     "output_type": "execute_result"
    }
   ],
   "source": [
    "# check realignment works - torch\n",
    "pred_mod, prot_mod = Kabsch(pred, prot)\n",
    "RMSD(prot_mod, pred_mod), TMscore(prot_mod, pred_mod)"
   ]
  },
  {
   "cell_type": "markdown",
   "metadata": {},
   "source": [
    "## 3d Converter"
   ]
  },
  {
   "cell_type": "code",
   "execution_count": 10,
   "metadata": {},
   "outputs": [],
   "source": [
    "prot = mdtraj.load_pdb(\"data/1h22_protein.pdb\").xyz[0].transpose()"
   ]
  },
  {
   "cell_type": "code",
   "execution_count": 11,
   "metadata": {},
   "outputs": [],
   "source": [
    "# works with a simple distance matrix for now\n",
    "prot = torch.tensor(prot)\n",
    "distogram = torch.cdist(prot.t(), prot.t())"
   ]
  },
  {
   "cell_type": "code",
   "execution_count": 12,
   "metadata": {},
   "outputs": [],
   "source": [
    "# plt.imshow(distogram, cmap=\"viridis_r\")"
   ]
  },
  {
   "cell_type": "code",
   "execution_count": 13,
   "metadata": {},
   "outputs": [
    {
     "name": "stdout",
     "output_type": "stream",
     "text": [
      "it: 0, stress tensor(1.4261e+08)\n",
      "it: 1, stress tensor(70056744.)\n",
      "it: 2, stress tensor(64415480.)\n",
      "it: 3, stress tensor(61510324.)\n",
      "it: 4, stress tensor(60023968.)\n",
      "it: 5, stress tensor(59252812.)\n",
      "it: 6, stress tensor(58837864.)\n",
      "it: 7, stress tensor(58597644.)\n",
      "it: 8, stress tensor(58443748.)\n",
      "it: 9, stress tensor(58329848.)\n",
      "it: 10, stress tensor(58228680.)\n",
      "it: 11, stress tensor(58124320.)\n",
      "it: 12, stress tensor(58002528.)\n",
      "it: 13, stress tensor(57850092.)\n",
      "it: 14, stress tensor(57653132.)\n",
      "it: 15, stress tensor(57395532.)\n",
      "it: 16, stress tensor(57055716.)\n",
      "it: 17, stress tensor(56608660.)\n",
      "it: 18, stress tensor(56023860.)\n",
      "it: 19, stress tensor(55265596.)\n",
      "it: 20, stress tensor(54294608.)\n",
      "it: 21, stress tensor(53071296.)\n",
      "it: 22, stress tensor(51561624.)\n",
      "it: 23, stress tensor(49739768.)\n",
      "it: 24, stress tensor(47603096.)\n",
      "it: 25, stress tensor(45181952.)\n",
      "it: 26, stress tensor(42522012.)\n",
      "it: 27, stress tensor(39698732.)\n",
      "it: 28, stress tensor(36808744.)\n",
      "it: 29, stress tensor(33950008.)\n",
      "it: 30, stress tensor(31185098.)\n",
      "it: 31, stress tensor(28573492.)\n",
      "it: 32, stress tensor(26153474.)\n",
      "it: 33, stress tensor(23927754.)\n",
      "it: 34, stress tensor(21891016.)\n",
      "it: 35, stress tensor(20019164.)\n",
      "it: 36, stress tensor(18297806.)\n",
      "it: 37, stress tensor(16711664.)\n",
      "it: 38, stress tensor(15240244.)\n",
      "it: 39, stress tensor(13884914.)\n",
      "it: 40, stress tensor(12644959.)\n",
      "it: 41, stress tensor(11512582.)\n",
      "it: 42, stress tensor(10476541.)\n",
      "it: 43, stress tensor(9531440.)\n",
      "it: 44, stress tensor(8674780.)\n",
      "it: 45, stress tensor(7883639.)\n",
      "it: 46, stress tensor(7153108.)\n",
      "it: 47, stress tensor(6473787.5000)\n",
      "it: 48, stress tensor(5837102.)\n",
      "it: 49, stress tensor(5235543.5000)\n",
      "it: 50, stress tensor(4668201.5000)\n",
      "it: 51, stress tensor(4135507.)\n",
      "it: 52, stress tensor(3635732.)\n",
      "it: 53, stress tensor(3174101.2500)\n",
      "it: 54, stress tensor(2751404.7500)\n",
      "it: 55, stress tensor(2368383.7500)\n",
      "it: 56, stress tensor(2027007.3750)\n",
      "it: 57, stress tensor(1724868.)\n",
      "it: 58, stress tensor(1461031.7500)\n",
      "it: 59, stress tensor(1230551.3750)\n",
      "it: 60, stress tensor(1030268.9375)\n",
      "it: 61, stress tensor(856186.3125)\n",
      "it: 62, stress tensor(706764.8125)\n",
      "it: 63, stress tensor(579192.5000)\n",
      "it: 64, stress tensor(471433.3750)\n",
      "it: 65, stress tensor(381091.5938)\n",
      "it: 66, stress tensor(306269.6250)\n",
      "it: 67, stress tensor(244812.2031)\n",
      "it: 68, stress tensor(194581.)\n",
      "it: 69, stress tensor(153621.0156)\n",
      "it: 70, stress tensor(120319.4219)\n",
      "it: 71, stress tensor(93516.7422)\n",
      "it: 72, stress tensor(72275.3281)\n",
      "it: 73, stress tensor(55629.7656)\n",
      "it: 74, stress tensor(42700.9727)\n",
      "it: 75, stress tensor(32758.0254)\n",
      "it: 76, stress tensor(25152.4199)\n",
      "it: 77, stress tensor(19353.8398)\n",
      "it: 78, stress tensor(14945.4082)\n",
      "it: 79, stress tensor(11589.7930)\n",
      "it: 80, stress tensor(9024.8564)\n",
      "it: 81, stress tensor(7058.4570)\n",
      "it: 82, stress tensor(5547.2563)\n",
      "it: 83, stress tensor(4379.1338)\n",
      "it: 84, stress tensor(3472.1621)\n",
      "it: 85, stress tensor(2765.5403)\n",
      "it: 86, stress tensor(2211.5579)\n",
      "it: 87, stress tensor(1775.7107)\n",
      "it: 88, stress tensor(1431.0076)\n",
      "it: 89, stress tensor(1157.4700)\n",
      "it: 90, stress tensor(939.4462)\n",
      "it: 91, stress tensor(764.5819)\n",
      "it: 92, stress tensor(624.2953)\n",
      "it: 93, stress tensor(511.2126)\n",
      "it: 94, stress tensor(419.6129)\n",
      "it: 95, stress tensor(345.2690)\n",
      "it: 96, stress tensor(284.8211)\n",
      "it: 97, stress tensor(235.5289)\n",
      "it: 98, stress tensor(195.0215)\n",
      "it: 99, stress tensor(161.8111)\n",
      "it: 100, stress tensor(134.5543)\n",
      "it: 101, stress tensor(112.0900)\n",
      "it: 102, stress tensor(93.4598)\n",
      "it: 103, stress tensor(78.0571)\n",
      "it: 104, stress tensor(65.3080)\n",
      "it: 105, stress tensor(54.7231)\n",
      "it: 106, stress tensor(45.8754)\n",
      "it: 107, stress tensor(38.5135)\n",
      "it: 108, stress tensor(32.3792)\n",
      "it: 109, stress tensor(27.2552)\n",
      "it: 110, stress tensor(22.9497)\n",
      "it: 111, stress tensor(19.3451)\n",
      "it: 112, stress tensor(16.3265)\n",
      "it: 113, stress tensor(13.7913)\n",
      "it: 114, stress tensor(11.6558)\n",
      "it: 115, stress tensor(9.8576)\n",
      "it: 116, stress tensor(8.3450)\n",
      "it: 117, stress tensor(7.0699)\n",
      "it: 118, stress tensor(5.9934)\n",
      "it: 119, stress tensor(5.0824)\n",
      "it: 120, stress tensor(4.3134)\n",
      "it: 121, stress tensor(3.6631)\n",
      "it: 122, stress tensor(3.1131)\n",
      "it: 123, stress tensor(2.6462)\n",
      "it: 124, stress tensor(2.2508)\n",
      "it: 125, stress tensor(1.9154)\n",
      "it: 126, stress tensor(1.6310)\n",
      "it: 127, stress tensor(1.3895)\n",
      "it: 128, stress tensor(1.1841)\n",
      "it: 129, stress tensor(1.0095)\n",
      "it: 130, stress tensor(0.8610)\n",
      "it: 131, stress tensor(0.7348)\n",
      "it: 132, stress tensor(0.6273)\n",
      "it: 133, stress tensor(0.5356)\n",
      "it: 134, stress tensor(0.4574)\n",
      "it: 135, stress tensor(0.3909)\n",
      "it: 136, stress tensor(0.3343)\n",
      "it: 137, stress tensor(0.2859)\n",
      "it: 138, stress tensor(0.2445)\n",
      "it: 139, stress tensor(0.2092)\n",
      "it: 140, stress tensor(0.1791)\n",
      "it: 141, stress tensor(0.1534)\n",
      "it: 142, stress tensor(0.1314)\n",
      "it: 143, stress tensor(0.1126)\n",
      "it: 144, stress tensor(0.0965)\n",
      "it: 145, stress tensor(0.0828)\n",
      "it: 146, stress tensor(0.0710)\n",
      "it: 147, stress tensor(0.0609)\n",
      "it: 148, stress tensor(0.0523)\n",
      "it: 149, stress tensor(0.0449)\n",
      "it: 150, stress tensor(0.0386)\n",
      "it: 151, stress tensor(0.0332)\n",
      "it: 152, stress tensor(0.0285)\n",
      "it: 153, stress tensor(0.0245)\n",
      "it: 154, stress tensor(0.0211)\n",
      "it: 155, stress tensor(0.0182)\n",
      "it: 156, stress tensor(0.0157)\n",
      "it: 157, stress tensor(0.0135)\n",
      "it: 158, stress tensor(0.0116)\n",
      "it: 159, stress tensor(0.0101)\n",
      "it: 160, stress tensor(0.0087)\n",
      "it: 161, stress tensor(0.0075)\n",
      "it: 162, stress tensor(0.0065)\n",
      "it: 163, stress tensor(0.0057)\n",
      "it: 164, stress tensor(0.0049)\n",
      "it: 165, stress tensor(0.0043)\n",
      "it: 166, stress tensor(0.0038)\n",
      "it: 167, stress tensor(0.0033)\n",
      "it: 168, stress tensor(0.0029)\n",
      "it: 169, stress tensor(0.0026)\n",
      "it: 170, stress tensor(0.0023)\n",
      "it: 171, stress tensor(0.0020)\n",
      "it: 172, stress tensor(0.0018)\n",
      "it: 173, stress tensor(0.0016)\n",
      "it: 174, stress tensor(0.0014)\n",
      "it: 175, stress tensor(0.0013)\n",
      "it: 176, stress tensor(0.0012)\n",
      "it: 177, stress tensor(0.0011)\n",
      "it: 178, stress tensor(0.0010)\n",
      "it: 179, stress tensor(0.0009)\n",
      "it: 180, stress tensor(0.0008)\n",
      "it: 181, stress tensor(0.0008)\n",
      "it: 182, stress tensor(0.0007)\n",
      "it: 183, stress tensor(0.0007)\n",
      "it: 184, stress tensor(0.0007)\n",
      "it: 185, stress tensor(0.0006)\n",
      "breaking at iteration 185 with stress tensor(0.0006)\n"
     ]
    }
   ],
   "source": [
    "pred, stress = MDScaling(distogram, iters=500, tol=1e-7)"
   ]
  },
  {
   "cell_type": "code",
   "execution_count": 14,
   "metadata": {},
   "outputs": [
    {
     "name": "stdout",
     "output_type": "stream",
     "text": [
      "rmsd is:  [1.1654524]\n",
      "gdt_ha is:  [0.5300281]\n",
      "gdt_ts is:  [0.73628421]\n",
      "tm_score is:  [0.99254465]\n"
     ]
    }
   ],
   "source": [
    "# check realignment works\n",
    "pred_mod, prot_mod = Kabsch(pred.numpy(), prot.numpy())\n",
    "# measure\n",
    "rmsd     = RMSD(prot_mod, pred_mod)\n",
    "gdt_ha   = GDT(prot_mod, pred_mod, mode=\"HA\")\n",
    "gdt_ts   = GDT(prot_mod, pred_mod, mode=\"TS\")\n",
    "tm_score = TMscore(prot_mod, pred_mod)\n",
    "\n",
    "print(\"rmsd is: \", rmsd)\n",
    "print(\"gdt_ha is: \", gdt_ha)\n",
    "print(\"gdt_ts is: \", gdt_ts)\n",
    "print(\"tm_score is: \", tm_score)"
   ]
  },
  {
   "cell_type": "markdown",
   "metadata": {},
   "source": [
    "## See reconstruction"
   ]
  },
  {
   "cell_type": "code",
   "execution_count": 15,
   "metadata": {},
   "outputs": [],
   "source": [
    "new_distogram = torch.cdist(pred.t(), pred.t())\n",
    "delta_dist    = new_distogram-distogram"
   ]
  },
  {
   "cell_type": "code",
   "execution_count": 16,
   "metadata": {},
   "outputs": [
    {
     "name": "stdout",
     "output_type": "stream",
     "text": [
      "Diffs: max = 0.00023132562637329102 and min -0.0003256499767303467\n"
     ]
    },
    {
     "data": {
      "image/png": "[encoded data removed]",
      "text/plain": [
       "<Figure size 648x216 with 3 Axes>"
      ]
     },
     "metadata": {
      "needs_background": "light"
     },
     "output_type": "display_data"
    }
   ],
   "source": [
    "fig, ax = plt.subplots(1,3,figsize=(9, 3), sharey=True)\n",
    "cmap = plt.get_cmap(\"viridis_r\")\n",
    "\n",
    "ax[0].set_title(\"Original\")\n",
    "ax[0].imshow(distogram, cmap=\"viridis_r\")\n",
    "ax[1].set_title(\"Reconstructed\")\n",
    "ax[1].imshow(new_distogram, cmap=\"viridis_r\")\n",
    "ax[2].set_title(\"Difference\")\n",
    "ax[2].imshow(delta_dist, cmap=\"viridis_r\")\n",
    "\n",
    "\n",
    "print(\"Diffs: max = {0} and min {1}\".format(np.amax(delta_dist.numpy()),\n",
    "                                            np.amin(delta_dist.numpy()) ))"
   ]
  },
  {
   "cell_type": "code",
   "execution_count": 17,
   "metadata": {},
   "outputs": [],
   "source": [
    "# save pdb file and check manually here: \n",
    "# https://molstar.org/viewer/\n",
    "buffer_save = mdtraj.load(\"data/1h22_protein.pdb\")\n",
    "buffer_save.xyz = pred_mod.T[None, :, :]\n",
    "buffer_save.save(\"data/save_to_check.pdb\")"
   ]
  },
  {
   "cell_type": "code",
   "execution_count": 18,
   "metadata": {},
   "outputs": [],
   "source": [
    "# save pdb file and check manually here: \n",
    "# https://molstar.org/viewer/\n",
    "buffer_save = mdtraj.load(\"data/1h22_protein.pdb\")\n",
    "buffer_save.xyz = prot_mod.T[None, :, :]\n",
    "buffer_save.save(\"data/save_to_check_base.pdb\")"
   ]
  },
  {
   "cell_type": "markdown",
   "metadata": {},
   "source": [
    "Legend:\n",
    "* blue/purple: reference\n",
    "* green/orange: our reconstruction\n",
    "\n",
    "Comments:\n",
    "* **TODO:** see why smaller / considering resizing in kabsch"
   ]
  },
  {
   "cell_type": "markdown",
   "metadata": {},
   "source": [
    "<img src=\"data/comparison.png\"/>"
   ]
  },
  {
   "cell_type": "code",
   "execution_count": null,
   "metadata": {},
   "outputs": [],
   "source": []
  }
 ],
 "metadata": {
  "kernelspec": {
   "display_name": "Python 3",
   "language": "python",
   "name": "python3"
  },
  "language_info": {
   "codemirror_mode": {
    "name": "ipython",
    "version": 3
   },
   "file_extension": ".py",
   "mimetype": "text/x-python",
   "name": "python",
   "nbconvert_exporter": "python",
   "pygments_lexer": "ipython3",
   "version": "3.7.9"
  }
 },
 "nbformat": 4,
 "nbformat_minor": 4
}
